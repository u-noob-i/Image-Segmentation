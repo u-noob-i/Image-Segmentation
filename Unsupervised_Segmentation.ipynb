{
 "cells": [
  {
   "cell_type": "code",
   "execution_count": null,
   "id": "0df12842",
   "metadata": {},
   "outputs": [],
   "source": [
    "#Kmeans clustering segmentation\n",
    "\n",
    "import numpy as np\n",
    "import pandas as pd\n",
    "import cv2\n",
    "import collections\n",
    "import seaborn as sns\n",
    "import matplotlib.pyplot as plt\n",
    "from skimage import filters\n",
    "from skimage import util\n",
    "from sklearn.preprocessing import MinMaxScaler\n",
    "from sklearn.cluster import KMeans\n",
    "from mpl_toolkits.mplot3d import Axes3D\n",
    "from sklearn.cluster import MeanShift, estimate_bandwidth\n",
    "import warnings\n",
    "warnings.filterwarnings(\"ignore\")"
   ]
  },
  {
   "cell_type": "code",
   "execution_count": null,
   "id": "99183310",
   "metadata": {},
   "outputs": [],
   "source": [
    "imageName = 'Datasets/Retina/Stare/Images/im0001.ppm'\n",
    "image = plt.imread(imageName)\n",
    "plt.figure(dpi=150)\n",
    "plt.title('EYE')\n",
    "plt.imshow(image)"
   ]
  },
  {
   "cell_type": "code",
   "execution_count": null,
   "id": "4ad34f0d",
   "metadata": {},
   "outputs": [],
   "source": [
    "index = pd.MultiIndex.from_product(\n",
    "    (*map(range, image.shape[:2]), ('r', 'g', 'b')),\n",
    "    names=('row', 'col', None))\n",
    "df_1 = pd.Series(image.flatten(), index=index)\n",
    "df_1 = df_1.unstack()\n",
    "df_1 = df_1.reset_index().reindex(columns=['col','row',   'r','g','b'])\n",
    "df_1.head(10)"
   ]
  },
  {
   "cell_type": "code",
   "execution_count": null,
   "id": "3ebbeaec",
   "metadata": {},
   "outputs": [],
   "source": [
    "df_2 = df_1[['r','g','g']]\n",
    "df_2.head(10)"
   ]
  },
  {
   "cell_type": "code",
   "execution_count": null,
   "id": "9356d271",
   "metadata": {},
   "outputs": [],
   "source": [
    "nd_1 = df_1.values.astype(np.float32)\n",
    "nd_1[:, 0] = nd_1[:, 0] / (nd_1[:, 0].max() + 1)\n",
    "nd_1[:, 1] = nd_1[:, 1] / (nd_1[:, 1].max() + 1)\n",
    "nd_1[:, 2:] = nd_1[:, 2:] / 255\n",
    "nd_2 = df_2.astype(np.float64) / 255"
   ]
  },
  {
   "cell_type": "code",
   "execution_count": null,
   "id": "f7599e70",
   "metadata": {},
   "outputs": [],
   "source": [
    "nd_1 = MinMaxScaler(feature_range=(0, 1)).fit_transform(df_1)\n",
    "nd_2 = MinMaxScaler(feature_range=(0, 1)).fit_transform(df_2)"
   ]
  },
  {
   "cell_type": "code",
   "execution_count": null,
   "id": "575f2b9f",
   "metadata": {},
   "outputs": [],
   "source": [
    "total_inertias_1 = [KMeans(n_clusters=i).fit(nd_1).inertia_ for i in range(1, 20)]\n",
    "total_inertias_2 = [KMeans(n_clusters=i).fit(nd_2).inertia_ for i in range(1, 20)]\n",
    "print(total_inertias_1)\n",
    "import matplotlib.pyplot as plt\n",
    "fig, (ax1, ax2) = plt.subplots(1, 2, sharex='col', sharey='row', figsize=(30,10))\n",
    "ax1.plot(range(1, 20), total_inertias_1, c='black')\n",
    "ax1.set(xlabel='Total Inertias', ylabel='Number of Clusters', title='RGB Pixels with locations')\n",
    "ax2.plot(range(1, 20), total_inertias_2, c='black')\n",
    "ax2.set(xlabel='Total Inertias', title='RGB Pixels without locations');\n",
    "plt.savefig('elbow_result.jpg')"
   ]
  },
  {
   "cell_type": "code",
   "execution_count": null,
   "id": "cec7a633",
   "metadata": {},
   "outputs": [],
   "source": [
    "#mean shift"
   ]
  },
  {
   "cell_type": "code",
   "execution_count": null,
   "id": "a033cc6e",
   "metadata": {},
   "outputs": [],
   "source": [
    "bandwidth_1 = estimate_bandwidth(nd_1, quantile=.04, n_jobs=-1)\n",
    "bandwidth_2 = estimate_bandwidth(nd_2, quantile=.04, n_jobs=-1);"
   ]
  },
  {
   "cell_type": "code",
   "execution_count": null,
   "id": "425873e3",
   "metadata": {},
   "outputs": [],
   "source": [
    "ms_1 = MeanShift(bandwidth = bandwidth_1 , n_jobs=-1, bin_seeding=True, cluster_all=True).fit(nd_1)\n",
    "ms_2 = MeanShift(bandwidth = bandwidth_2 , n_jobs=-1, bin_seeding=True, cluster_all=True).fit(nd_2)"
   ]
  },
  {
   "cell_type": "code",
   "execution_count": null,
   "id": "0d9036ec",
   "metadata": {},
   "outputs": [],
   "source": [
    "print(ms_1.cluster_centers_[:, 2:])\n",
    "print(ms_1.labels_)\n",
    "\n",
    "img = np.array(image)\n",
    "shape = img.shape\n",
    "\n",
    "labels1 = ms_1.labels_\n",
    "labels2 = ms_2.labels_\n",
    "result_image1 = np.reshape(labels1, shape[:2])\n",
    "result_image2 = np.reshape(labels2, shape[:2])\n",
    "\n",
    "plt.figure(1)\n",
    "plt.clf()\n",
    "plt.axis('off')\n",
    "plt.title('Original image', loc='center')\n",
    "plt.imshow(image)\n",
    "plt.figure(2)\n",
    "plt.clf()\n",
    "plt.axis('off')\n",
    "plt.title('Pixels with their location image ({} colors, Mean-Shift)'.format(len(ms_1.cluster_centers_)), loc='center')\n",
    "# plt.imshow(recreate_image(ms_1.cluster_centers_[:, 2:], ms_1.labels_, width, height))\n",
    "plt.imshow(result_image1) \n",
    "plt.figure(3)\n",
    "plt.clf()\n",
    "plt.axis('off')\n",
    "plt.title('Pixels without their location ({} colors, Mean-Shift)'.format(len(ms_2.cluster_centers_)), loc='center')\n",
    "# plt.imshow(recreate_image(ms_2.cluster_centers_, ms_2.labels_, width, height))\n",
    "plt.imshow(result_image2) "
   ]
  }
 ],
 "metadata": {
  "kernelspec": {
   "display_name": "Python 3 (ipykernel)",
   "language": "python",
   "name": "python3"
  },
  "language_info": {
   "codemirror_mode": {
    "name": "ipython",
    "version": 3
   },
   "file_extension": ".py",
   "mimetype": "text/x-python",
   "name": "python",
   "nbconvert_exporter": "python",
   "pygments_lexer": "ipython3",
   "version": "3.8.16"
  }
 },
 "nbformat": 4,
 "nbformat_minor": 5
}
