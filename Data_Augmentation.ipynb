{
 "cells": [
  {
   "cell_type": "code",
   "execution_count": 1,
   "id": "076943cc",
   "metadata": {},
   "outputs": [],
   "source": [
    "#Paper implementation"
   ]
  },
  {
   "cell_type": "code",
   "execution_count": 2,
   "id": "5b956287",
   "metadata": {},
   "outputs": [],
   "source": [
    "import os\n",
    "import numpy as np\n",
    "import cv2\n",
    "from glob import glob\n",
    "from tqdm import tqdm\n",
    "import imageio\n",
    "from albumentations import VerticalFlip, HorizontalFlip, ElasticTransform, GridDistortion, OpticalDistortion, CoarseDropout, ShiftScaleRotate, Compose, RandomRotate90"
   ]
  },
  {
   "cell_type": "code",
   "execution_count": 3,
   "id": "bec4d7e0",
   "metadata": {},
   "outputs": [],
   "source": [
    "# takes a path and creates a directory if it does not exist\n",
    "def create_dir(path):\n",
    "    if not os.path.exists(path):\n",
    "        os.makedirs(path)"
   ]
  },
  {
   "cell_type": "code",
   "execution_count": 4,
   "id": "82b2b188",
   "metadata": {},
   "outputs": [],
   "source": [
    "def load_data(path):\n",
    "    \"\"\"X = images and Y = masks \"\"\"\n",
    "    train_x = sorted(glob(os.path.join(path, \"train\", \"*.*\")))\n",
    "    train_y = sorted(glob(os.path.join(path, \"train_nonhr\", \"*.*\")))\n",
    "\n",
    "    test_x = sorted(glob(os.path.join(path, \"val\", \"*.*\")))\n",
    "    test_y = sorted(glob(os.path.join(path, \"val_nonhr\", \"*.*\"))) \n",
    "    return (train_x, train_y), (test_x, test_y)"
   ]
  },
  {
   "cell_type": "code",
   "execution_count": 5,
   "id": "7a14ad27",
   "metadata": {},
   "outputs": [],
   "source": [
    "def augment_data(images, save_path, augment=True):\n",
    "    H = 512\n",
    "    W = 512\n",
    "\n",
    "    for idx, x in tqdm(enumerate(images), total=len(images)):\n",
    "        \"\"\"Extracting names\"\"\"\n",
    "        name = x.split(\"\\\\\")[-1].split(\".\")[0]\n",
    "\n",
    "        \"\"\"Reading image and mask\"\"\"\n",
    "        x = cv2.imread(x, cv2.IMREAD_COLOR)\n",
    "\n",
    "        if augment:\n",
    "            \n",
    "            aug = RandomRotate90(p=1.0)\n",
    "            augmented = aug(image=x)\n",
    "            x4 = augmented['image']\n",
    "            \n",
    "#Horizontal Flip\n",
    "            aug = HorizontalFlip(p=1.0)\n",
    "            augmented = aug(image=x)\n",
    "            x1 = augmented[\"image\"]\n",
    "            \n",
    "            aug = RandomRotate90(p=1.0)\n",
    "            augmented = aug(image=x1)\n",
    "            x7 = augmented['image']\n",
    "            \n",
    "#Vertical Flip\n",
    "            aug = VerticalFlip(p=1.0)\n",
    "            augmented = aug(image=x)\n",
    "            x2 = augmented[\"image\"]\n",
    "            \n",
    "            aug = RandomRotate90(p=1.0)\n",
    "            augmented = aug(image=x2)\n",
    "            x10 = augmented['image']         \n",
    "            \n",
    "            X = [x, x1, x2, x4, x7, x10]\n",
    "\n",
    "        else:\n",
    "            X = [x]\n",
    "\n",
    "        index = 0\n",
    "        for image in X:\n",
    "\n",
    "            if len(X) == 1:\n",
    "                tmp_image_name = f\"{name}.jpg\"\n",
    "            else:\n",
    "                tmp_image_name = f\"{name}_{index}.jpg\"\n",
    "\n",
    "            image_path = os.path.join(save_path, tmp_image_name)\n",
    "\n",
    "            \"\"\"Saving the image\"\"\"\n",
    "            cv2.imwrite(image_path, image)\n",
    "\n",
    "            index += 1"
   ]
  },
  {
   "cell_type": "code",
   "execution_count": 6,
   "id": "74c09f46",
   "metadata": {},
   "outputs": [
    {
     "name": "stderr",
     "output_type": "stream",
     "text": [
      "100%|██████████| 89/89 [00:03<00:00, 24.19it/s]\n",
      "100%|██████████| 180/180 [01:16<00:00,  2.36it/s]\n",
      "100%|██████████| 34/34 [00:02<00:00, 13.86it/s]\n",
      "100%|██████████| 81/81 [00:34<00:00,  2.35it/s]\n"
     ]
    }
   ],
   "source": [
    "if __name__ == \"__main__\":\n",
    "    \"\"\"Seeding\"\"\"\n",
    "    np.random.seed(42)\n",
    "\n",
    "    \"\"\"Load the data\"\"\"\n",
    "    data_path = \"Datasets/HR/HR_preprocessed/\"\n",
    "    (train_x, train_y), (test_x, test_y) = load_data(data_path)\n",
    "    \n",
    "    \"\"\"DATA AUGMENTATION\"\"\"\n",
    "    # Creating directories\n",
    "    create_dir(\"Datasets/HR/HR_aug/train\")\n",
    "    create_dir(\"Datasets/HR/HR_aug/train_nonhr\")\n",
    "    create_dir(\"Datasets/HR/HR_aug/val\")\n",
    "    create_dir(\"Datasets/HR/HR_aug/val_nonhr\")\n",
    "\n",
    "    augment_data(train_x, \"Datasets/HR/HR_aug/train\", augment=True)\n",
    "    augment_data(train_y, \"Datasets/HR/HR_aug/train_nonhr\", augment=True)\n",
    "    augment_data(test_x, \"Datasets/HR/HR_aug/val\", augment=True)\n",
    "    augment_data(test_y, \"Datasets/HR/HR_aug/val_nonhr\", augment=True)"
   ]
  }
 ],
 "metadata": {
  "kernelspec": {
   "display_name": "Python 3 (ipykernel)",
   "language": "python",
   "name": "python3"
  },
  "language_info": {
   "codemirror_mode": {
    "name": "ipython",
    "version": 3
   },
   "file_extension": ".py",
   "mimetype": "text/x-python",
   "name": "python",
   "nbconvert_exporter": "python",
   "pygments_lexer": "ipython3",
   "version": "3.8.16"
  }
 },
 "nbformat": 4,
 "nbformat_minor": 5
}
