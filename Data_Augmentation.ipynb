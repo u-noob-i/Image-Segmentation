{
 "cells": [
  {
   "cell_type": "code",
   "execution_count": 62,
   "id": "076943cc",
   "metadata": {},
   "outputs": [],
   "source": [
    "#Paper implementation"
   ]
  },
  {
   "cell_type": "code",
   "execution_count": 63,
   "id": "5b956287",
   "metadata": {},
   "outputs": [],
   "source": [
    "import os\n",
    "import numpy as np\n",
    "import cv2\n",
    "from glob import glob\n",
    "from tqdm import tqdm\n",
    "import imageio\n",
    "from albumentations import VerticalFlip, HorizontalFlip, ElasticTransform, GridDistortion, OpticalDistortion, CoarseDropout, ShiftScaleRotate, Compose"
   ]
  },
  {
   "cell_type": "code",
   "execution_count": 64,
   "id": "bec4d7e0",
   "metadata": {},
   "outputs": [],
   "source": [
    "# takes a path and creates a directory if it does not exist\n",
    "def create_dir(path):\n",
    "    if not os.path.exists(path):\n",
    "        os.makedirs(path)"
   ]
  },
  {
   "cell_type": "code",
   "execution_count": 65,
   "id": "82b2b188",
   "metadata": {},
   "outputs": [],
   "source": [
    "def load_data(path):\n",
    "    \"\"\"X = images and Y = masks \"\"\"\n",
    "    train_x = sorted(glob(os.path.join(path, \"train\", \"image\", \"*.*\")))\n",
    "    train_y = sorted(glob(os.path.join(path, \"train\", \"mask\", \"*.*\")))\n",
    "\n",
    "    test_x = sorted(glob(os.path.join(path, \"test\", \"image\", \"*.*\")))\n",
    "    test_y = sorted(glob(os.path.join(path, \"test\", \"mask\", \"*.*\")))\n",
    "\n",
    "    return (train_x, train_y), (test_x, test_y)"
   ]
  },
  {
   "cell_type": "code",
   "execution_count": 72,
   "id": "7a14ad27",
   "metadata": {},
   "outputs": [],
   "source": [
    "def augment_data(images, masks, save_path, augment=True):\n",
    "    H = 512\n",
    "    W = 512\n",
    "\n",
    "    for idx, (x, y) in tqdm(enumerate(zip(images, masks)), total=len(images)):\n",
    "        \"\"\"Extracting names\"\"\"\n",
    "        name = x.split(\"\\\\\")[-1].split(\".\")[0]\n",
    "\n",
    "        \"\"\"Reading image and mask\"\"\"\n",
    "        x = cv2.imread(x, cv2.IMREAD_COLOR)\n",
    "        y = cv2.imread(y, cv2.IMREAD_COLOR)\n",
    "\n",
    "        if augment:\n",
    "            \n",
    "            #Horizontal Flip and Translate\n",
    "            aug = HorizontalFlip(p=1.0)\n",
    "            augmented = aug(image=x, mask=y)\n",
    "            x1 = augmented[\"image\"]\n",
    "            y1 = augmented[\"mask\"]\n",
    "            aug = Compose([ShiftScaleRotate (rotate_limit=0, border_mode=cv2.BORDER_CONSTANT, shift_limit_x=-0.2, shift_limit_y=0.2, p=1)])\n",
    "            augmented = aug(image=x1, mask=y1)\n",
    "            x1 = augmented['image']\n",
    "            y1 = augmented['mask']\n",
    " \n",
    "            #Vertical Flip and Translate\n",
    "            aug = VerticalFlip(p=1.0)\n",
    "            augmented = aug(image=x, mask=y)\n",
    "            x2 = augmented[\"image\"]\n",
    "            y2 = augmented[\"mask\"]\n",
    "            aug = Compose([ShiftScaleRotate (rotate_limit=0, border_mode=cv2.BORDER_CONSTANT, shift_limit_x=-0.15, shift_limit_y=0.15, p=1)])\n",
    "            augmented = aug(image=x2, mask=y2)\n",
    "            x2 = augmented['image']\n",
    "            y2 = augmented['mask']\n",
    "\n",
    "            #Only X-Y translation\n",
    "            aug = Compose([ShiftScaleRotate (rotate_limit=0, border_mode=cv2.BORDER_CONSTANT, shift_limit_x=-0.1, shift_limit_y=0.1, p=1)])\n",
    "            augmented = aug(image=x, mask=y)\n",
    "            x3 = augmented['image']\n",
    "            y3 = augmented['mask']\n",
    "\n",
    "            X = [x, x1, x2, x3]\n",
    "            Y = [y, y1, y2, y3]\n",
    "\n",
    "        else:\n",
    "            X = [x]\n",
    "            Y = [y]\n",
    "\n",
    "        index = 0\n",
    "        for image, mask in zip(X, Y):\n",
    "            image = cv2.resize(image, (W, H))\n",
    "            mask = cv2.resize(mask, (W, H))\n",
    "\n",
    "            if len(X) == 1:\n",
    "                tmp_image_name = f\"{name}.jpg\"\n",
    "                tmp_mask_name = f\"{name}.jpg\"\n",
    "            else:\n",
    "                tmp_image_name = f\"{name}_{index}.jpg\"\n",
    "                tmp_mask_name = f\"{name}_{index}.jpg\"\n",
    "\n",
    "            image_path = os.path.join(save_path, \"image\", tmp_image_name)\n",
    "            mask_path = os.path.join(save_path, \"mask\", tmp_mask_name)\n",
    "\n",
    "            \"\"\"Saving the image\"\"\"\n",
    "            cv2.imwrite(image_path, image)\n",
    "            cv2.imwrite(mask_path, mask)\n",
    "\n",
    "            index += 1"
   ]
  },
  {
   "cell_type": "code",
   "execution_count": 73,
   "id": "74c09f46",
   "metadata": {},
   "outputs": [
    {
     "name": "stdout",
     "output_type": "stream",
     "text": [
      "Train: 1752 - 1752\n"
     ]
    },
    {
     "name": "stderr",
     "output_type": "stream",
     "text": [
      "100%|██████████| 1752/1752 [02:14<00:00, 13.04it/s]\n"
     ]
    }
   ],
   "source": [
    "if __name__ == \"__main__\":\n",
    "    \"\"\"Seeding\"\"\"\n",
    "    np.random.seed(42)\n",
    "\n",
    "    \"\"\"Load the data\"\"\"\n",
    "    data_path = \"Data/\"\n",
    "    (train_x, train_y) = load_data(data_path)\n",
    "    print(f\"Train: {len(train_x)} - {len(train_y)}\")\n",
    "    \n",
    "    \"\"\"DATA AUGMENTATION\"\"\"\n",
    "    # Creating directories\n",
    "    create_dir(\"Phase_3/Train/Image\")\n",
    "    create_dir(\"Phase_3/Train/Mask\")\n",
    "\n",
    "    augment_data(train_x, train_y, \"Phase_1/Train/\", augment=True)"
   ]
  },
  {
   "cell_type": "code",
   "execution_count": null,
   "id": "57b112b2",
   "metadata": {},
   "outputs": [],
   "source": []
  }
 ],
 "metadata": {
  "kernelspec": {
   "display_name": "Python 3 (ipykernel)",
   "language": "python",
   "name": "python3"
  },
  "language_info": {
   "codemirror_mode": {
    "name": "ipython",
    "version": 3
   },
   "file_extension": ".py",
   "mimetype": "text/x-python",
   "name": "python",
   "nbconvert_exporter": "python",
   "pygments_lexer": "ipython3",
   "version": "3.8.16"
  }
 },
 "nbformat": 4,
 "nbformat_minor": 5
}
