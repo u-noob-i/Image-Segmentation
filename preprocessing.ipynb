{
 "cells": [
  {
   "cell_type": "code",
   "execution_count": 1,
   "metadata": {
    "id": "_koxe9gUGndN"
   },
   "outputs": [],
   "source": [
    "import cv2\n",
    "import numpy as np\n",
    "import os\n",
    "from skimage import io\n",
    "from PIL import Image \n",
    "import matplotlib.pylab as plt\n",
    "from ietk import methods\n",
    "from ietk import util"
   ]
  },
  {
   "cell_type": "code",
   "execution_count": 2,
   "metadata": {
    "id": "2GHsan0XGyzV"
   },
   "outputs": [],
   "source": [
    "def normalize(img):\n",
    "  # convert in range 0-1 \n",
    "  img = img.astype('float32')\n",
    "  img /= 255\n",
    "  return img"
   ]
  },
  {
   "cell_type": "code",
   "execution_count": 3,
   "metadata": {
    "id": "BeNj7A9aGy18"
   },
   "outputs": [],
   "source": [
    "def enhance1(img):\n",
    "  # crop fundus image and get a focus region  (a very useful function!)\n",
    "  I = img.copy()\n",
    "\n",
    "  # enhance the image with an enhancement method from the ICIAR 2020 paper\n",
    "  # (any combination of letters A,B,C,D,W,X,Y,Z and sA,sB,sC,... are supported)\n",
    "  enhanced_img = methods.brighten_darken(I, 'A+B+X')\n",
    "  enhanced_img2 = methods.sharpen(enhanced_img)\n",
    "\n",
    "  return enhanced_img2\n",
    "\n",
    "def enhance2(img):\n",
    "  # crop fundus image and get a focus region  (a very useful function!)\n",
    "  I = img.copy()\n",
    "\n",
    "  # enhance the image with an enhancement method from the ICIAR 2020 paper\n",
    "  # (any combination of letters A,B,C,D,W,X,Y,Z and sA,sB,sC,... are supported)\n",
    "  enhanced_img = methods.brighten_darken(I, 'A+B+X+W')\n",
    "  enhanced_img2 = methods.sharpen(enhanced_img)\n",
    "\n",
    "  return enhanced_img2"
   ]
  },
  {
   "cell_type": "code",
   "execution_count": 4,
   "metadata": {
    "id": "xLM_SjfvGy3e"
   },
   "outputs": [],
   "source": [
    "def denormalise(img):\n",
    "  denorm_img = img * 255.0\n",
    "  return denorm_img"
   ]
  },
  {
   "cell_type": "code",
   "execution_count": 8,
   "metadata": {},
   "outputs": [],
   "source": [
    "input_dir = 'Datasets/HR/HR/val_nonhr'\n",
    "output_dir = 'Datasets/HR/HR_preprocessed/val_nonhr'\n",
    "\n",
    "# Iterate over each file in the input directory\n",
    "for filename in os.listdir(input_dir):\n",
    "    # Construct full paths to input and output files\n",
    "    input_path = os.path.join(input_dir, filename)\n",
    "    output_path = os.path.join(output_dir, filename)\n",
    "\n",
    "    # Read the image from file\n",
    "    image = cv2.imread(input_path)\n",
    "    # Perform some image processing operations on the image\n",
    "    norm_img = normalize(image) \n",
    "    # enhance using ietk method \n",
    "    enhanced_img = enhance1(norm_img)\n",
    "    # denormalise the enhanced image to get range 0-255\n",
    "    enhanced_denorm_image = denormalise(enhanced_img)\n",
    "    # Write the processed image to file      \n",
    "    cv2.imwrite(output_path, enhanced_denorm_image)"
   ]
  }
 ],
 "metadata": {
  "colab": {
   "provenance": []
  },
  "kernelspec": {
   "display_name": "Python 3 (ipykernel)",
   "language": "python",
   "name": "python3"
  },
  "language_info": {
   "codemirror_mode": {
    "name": "ipython",
    "version": 3
   },
   "file_extension": ".py",
   "mimetype": "text/x-python",
   "name": "python",
   "nbconvert_exporter": "python",
   "pygments_lexer": "ipython3",
   "version": "3.8.16"
  }
 },
 "nbformat": 4,
 "nbformat_minor": 1
}
